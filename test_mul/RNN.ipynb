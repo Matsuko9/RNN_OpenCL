{
 "cells": [
  {
   "cell_type": "markdown",
   "metadata": {},
   "source": [
    "# Define Encryption key"
   ]
  },
  {
   "cell_type": "code",
   "execution_count": 1,
   "metadata": {},
   "outputs": [],
   "source": [
    "key = 13\n",
    "vocab = [char for char in 'ABCDEFGHIJKLMNOPQRSTUVWXYZ-']"
   ]
  },
  {
   "cell_type": "markdown",
   "metadata": {},
   "source": [
    "# Encrypt Function"
   ]
  },
  {
   "cell_type": "code",
   "execution_count": 2,
   "metadata": {},
   "outputs": [],
   "source": [
    "def encrypt(text):\n",
    "    \n",
    "    indexes = [vocab.index(char) for char in text]\n",
    "    encrypted_indexes = [ (idx + key) % len(vocab) for idx in indexes]\n",
    "    encrypted_chars = [vocab[idx] for idx in encrypted_indexes]\n",
    "    encrypted = ''.join(encrypted_chars)\n",
    "    return encrypted"
   ]
  },
  {
   "cell_type": "code",
   "execution_count": 3,
   "metadata": {},
   "outputs": [],
   "source": [
    "assert encrypt('ABCDEFGHIJKLMNOPQRSTUVWXYZ-') == 'NOPQRSTUVWXYZ-ABCDEFGHIJKLM'"
   ]
  },
  {
   "cell_type": "markdown",
   "metadata": {},
   "source": [
    "# Libraries Import"
   ]
  },
  {
   "cell_type": "code",
   "execution_count": 4,
   "metadata": {},
   "outputs": [],
   "source": [
    "import random\n",
    "import torch\n",
    "import numpy as np\n",
    "import torch.nn as nn\n",
    "%matplotlib inline\n",
    "import matplotlib.pyplot as plt"
   ]
  },
  {
   "cell_type": "markdown",
   "metadata": {},
   "source": [
    "# Set Batch Size and Maximum Message length"
   ]
  },
  {
   "cell_type": "code",
   "execution_count": 5,
   "metadata": {},
   "outputs": [],
   "source": [
    "num_examples = 128\n",
    "message_length = 64"
   ]
  },
  {
   "cell_type": "markdown",
   "metadata": {},
   "source": [
    "# Function to generate data"
   ]
  },
  {
   "cell_type": "code",
   "execution_count": 6,
   "metadata": {},
   "outputs": [],
   "source": [
    "def dataset(num_examples):\n",
    "    \n",
    "    dataset = []\n",
    "    for x in range(0, num_examples):\n",
    "        ex_out = ''.join([random.choice(vocab) for x in range(message_length)])\n",
    "        ex_in = encrypt(''.join(ex_out))\n",
    "        ex_in = [vocab.index(x) for x in ex_in]\n",
    "        ex_out = [vocab.index(x) for x in ex_out]\n",
    "        dataset.append([torch.tensor(ex_in), torch.tensor(ex_out)])\n",
    "        \n",
    "    return dataset"
   ]
  },
  {
   "cell_type": "markdown",
   "metadata": {},
   "source": [
    "# RNN Hyper - Parameters"
   ]
  },
  {
   "cell_type": "code",
   "execution_count": 7,
   "metadata": {},
   "outputs": [],
   "source": [
    "embedding_dim = 5\n",
    "hidden_dim = 10\n",
    "vocab_size = len(vocab)"
   ]
  },
  {
   "cell_type": "markdown",
   "metadata": {},
   "source": [
    "# Neural Network Architecture"
   ]
  },
  {
   "cell_type": "code",
   "execution_count": 8,
   "metadata": {},
   "outputs": [],
   "source": [
    "embed = torch.nn.Embedding(vocab_size, embedding_dim)\n",
    "rnn = torch.nn.RNN(embedding_dim, hidden_dim)\n",
    "linear = torch.nn.Linear(hidden_dim, vocab_size)\n",
    "softmax = torch.nn.functional.softmax\n",
    "loss_fn = torch.nn.CrossEntropyLoss()\n",
    "\n",
    "optimizer = torch.optim.Adam(list(embed.parameters()) + list(rnn.parameters()) + list(linear.parameters()), lr=0.001)"
   ]
  },
  {
   "cell_type": "code",
   "execution_count": 9,
   "metadata": {},
   "outputs": [],
   "source": [
    "def zero_hidden():\n",
    "    return torch.zeros(1, 1, hidden_dim)"
   ]
  },
  {
   "cell_type": "markdown",
   "metadata": {},
   "source": [
    "# Train Network"
   ]
  },
  {
   "cell_type": "code",
   "execution_count": 10,
   "metadata": {},
   "outputs": [],
   "source": [
    "num_epochs = 12\n",
    "\n",
    "accuracies, max_accuracy = [], 0\n",
    "loss_list = []"
   ]
  },
  {
   "cell_type": "code",
   "execution_count": 11,
   "metadata": {},
   "outputs": [
    {
     "name": "stdout",
     "output_type": "stream",
     "text": [
      "Epoch : 0\n",
      "Loss : 2.9417\n",
      "Accuracy : 26.9043\n",
      "Epoch : 1\n",
      "Loss : 2.3611\n",
      "Accuracy : 52.5269\n",
      "Epoch : 2\n",
      "Loss : 1.6127\n",
      "Accuracy : 76.5869\n",
      "Epoch : 3\n",
      "Loss : 1.1779\n",
      "Accuracy : 90.2832\n",
      "Epoch : 4\n",
      "Loss : 0.8698\n",
      "Accuracy : 92.8711\n",
      "Epoch : 5\n",
      "Loss : 0.6403\n",
      "Accuracy : 99.8413\n",
      "Epoch : 6\n",
      "Loss : 0.4958\n",
      "Accuracy : 100.0000\n",
      "Epoch : 7\n",
      "Loss : 0.3624\n",
      "Accuracy : 100.0000\n",
      "Epoch : 8\n",
      "Loss : 0.2770\n",
      "Accuracy : 100.0000\n",
      "Epoch : 9\n",
      "Loss : 0.2095\n",
      "Accuracy : 100.0000\n",
      "Epoch : 10\n",
      "Loss : 0.1774\n",
      "Accuracy : 100.0000\n",
      "Epoch : 11\n",
      "Loss : 0.1348\n",
      "Accuracy : 100.0000\n"
     ]
    }
   ],
   "source": [
    "for x in range(num_epochs):\n",
    "    \n",
    "    print(\"Epoch : %d\"%(x))\n",
    "    \n",
    "    for encrypted, original in dataset(num_examples):\n",
    "    \n",
    "        rnn_in = embed(encrypted)\n",
    "        rnn_in = rnn_in.unsqueeze(1)\n",
    "\n",
    "        rnn_out, rnn_hidden = rnn(rnn_in, zero_hidden())\n",
    "\n",
    "        scores = linear(rnn_out)\n",
    "        scores = scores.transpose(1, 2)\n",
    "\n",
    "        original = original.unsqueeze(1)\n",
    "        loss = loss_fn(scores, original)\n",
    "\n",
    "        optimizer.zero_grad()\n",
    "\n",
    "        loss.backward()\n",
    "\n",
    "        optimizer.step()\n",
    "        \n",
    "        loss_list.append(loss.item())\n",
    "    \n",
    "    print(\"Loss : %.4f\"%(loss.item()))\n",
    "    \n",
    "    with torch.no_grad():\n",
    "        \n",
    "        matches, total = 0, 0\n",
    "        for encrypted, original in dataset(num_examples):\n",
    "            rnn_in = embed(encrypted)\n",
    "            rnn_in = rnn_in.unsqueeze(1)\n",
    "            rnn_out, rnn_hidden = rnn(rnn_in, zero_hidden())\n",
    "            \n",
    "            scores = linear(rnn_out)\n",
    "            \n",
    "            predictions = softmax(scores, dim=2)\n",
    "            \n",
    "            _, batch_out = predictions.max(dim=2)\n",
    "            \n",
    "            batch_out = batch_out.squeeze(1)\n",
    "            \n",
    "            matches += torch.eq(batch_out, original).sum().item()\n",
    "            total += torch.numel(batch_out)\n",
    "            \n",
    "        accuracy = matches/total\n",
    "        accuracies.append(accuracy)\n",
    "        print(\"Accuracy : %.4f\"%(accuracy * 100))"
   ]
  },
  {
   "cell_type": "markdown",
   "metadata": {},
   "source": [
    "# Plots"
   ]
  },
  {
   "cell_type": "code",
   "execution_count": 26,
   "metadata": {},
   "outputs": [
    {
     "data": {
      "image/png": "[encoded data removed]",
      "text/plain": [
       "<Figure size 432x288 with 1 Axes>"
      ]
     },
     "metadata": {
      "needs_background": "light"
     },
     "output_type": "display_data"
    }
   ],
   "source": [
    "plt.plot(loss_list, label=\"Training Loss\")\n",
    "#plt.plot(accuracies, label=\"accuracy on validation data set\")\n",
    "plt.grid()\n",
    "plt.xlabel(\"Iteration\")\n",
    "plt.ylabel(\"Loss\")\n",
    "plt.legend()\n",
    "plt.savefig(\"loss_plot.png\")"
   ]
  },
  {
   "cell_type": "code",
   "execution_count": 25,
   "metadata": {},
   "outputs": [
    {
     "data": {
      "image/png": "[encoded data removed]",
      "text/plain": [
       "<Figure size 432x288 with 1 Axes>"
      ]
     },
     "metadata": {
      "needs_background": "light"
     },
     "output_type": "display_data"
    }
   ],
   "source": [
    "plt.plot(accuracies, label=\"Accuracy on Val. Data\")\n",
    "plt.grid()\n",
    "plt.xlabel(\"Epoch\")\n",
    "plt.ylabel(\"Accuracy\")\n",
    "plt.savefig(\"acc.png\")"
   ]
  }
 ],
 "metadata": {
  "kernelspec": {
   "display_name": "Python 3",
   "language": "python",
   "name": "python3"
  },
  "language_info": {
   "codemirror_mode": {
    "name": "ipython",
    "version": 3
   },
   "file_extension": ".py",
   "mimetype": "text/x-python",
   "name": "python",
   "nbconvert_exporter": "python",
   "pygments_lexer": "ipython3",
   "version": "3.6.7"
  }
 },
 "nbformat": 4,
 "nbformat_minor": 2
}
